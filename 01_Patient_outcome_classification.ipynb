{
  "cells": [
    {
      "cell_type": "markdown",
      "metadata": {
        "id": "view-in-github",
        "colab_type": "text"
      },
      "source": [
        "<a href=\"https://colab.research.google.com/github/sextonemmett/Computational_and_Deep_Learning/blob/main/01_Patient_outcome_classification.ipynb\" target=\"_parent\"><img src=\"https://colab.research.google.com/assets/colab-badge.svg\" alt=\"Open In Colab\"/></a>"
      ]
    },
    {
      "cell_type": "code",
      "execution_count": null,
      "metadata": {
        "colab": {
          "base_uri": "https://localhost:8080/"
        },
        "id": "TAuLyDxi-lLw",
        "outputId": "c1ec3fac-ae45-43d5-f64a-6c025f005fec"
      },
      "outputs": [
        {
          "output_type": "stream",
          "name": "stdout",
          "text": [
            "Mounted at /content/drive\n"
          ]
        }
      ],
      "source": [
        "from google.colab import drive\n",
        "drive.mount('/content/drive')"
      ]
    },
    {
      "cell_type": "code",
      "execution_count": null,
      "metadata": {
        "colab": {
          "base_uri": "https://localhost:8080/"
        },
        "id": "XWht7-eVGuuu",
        "outputId": "c0052316-97b7-470a-9fe4-b32dc9f4e205"
      },
      "outputs": [
        {
          "output_type": "stream",
          "name": "stdout",
          "text": [
            "Collecting category_encoders\n",
            "  Downloading category_encoders-2.6.3-py2.py3-none-any.whl (81 kB)\n",
            "\u001b[?25l     \u001b[90m━━━━━━━━━━━━━━━━━━━━━━━━━━━━━━━━━━━━━━━━\u001b[0m \u001b[32m0.0/81.9 kB\u001b[0m \u001b[31m?\u001b[0m eta \u001b[36m-:--:--\u001b[0m\r\u001b[2K     \u001b[91m━━━━━━━━━━━━━━━━━━━━━━━━━━━━━━━━━━━\u001b[0m\u001b[90m╺\u001b[0m\u001b[90m━━━━\u001b[0m \u001b[32m71.7/81.9 kB\u001b[0m \u001b[31m2.4 MB/s\u001b[0m eta \u001b[36m0:00:01\u001b[0m\r\u001b[2K     \u001b[90m━━━━━━━━━━━━━━━━━━━━━━━━━━━━━━━━━━━━━━━━\u001b[0m \u001b[32m81.9/81.9 kB\u001b[0m \u001b[31m2.0 MB/s\u001b[0m eta \u001b[36m0:00:00\u001b[0m\n",
            "\u001b[?25hRequirement already satisfied: numpy>=1.14.0 in /usr/local/lib/python3.10/dist-packages (from category_encoders) (1.25.2)\n",
            "Requirement already satisfied: scikit-learn>=0.20.0 in /usr/local/lib/python3.10/dist-packages (from category_encoders) (1.2.2)\n",
            "Requirement already satisfied: scipy>=1.0.0 in /usr/local/lib/python3.10/dist-packages (from category_encoders) (1.11.4)\n",
            "Requirement already satisfied: statsmodels>=0.9.0 in /usr/local/lib/python3.10/dist-packages (from category_encoders) (0.14.1)\n",
            "Requirement already satisfied: pandas>=1.0.5 in /usr/local/lib/python3.10/dist-packages (from category_encoders) (1.5.3)\n",
            "Requirement already satisfied: patsy>=0.5.1 in /usr/local/lib/python3.10/dist-packages (from category_encoders) (0.5.6)\n",
            "Requirement already satisfied: python-dateutil>=2.8.1 in /usr/local/lib/python3.10/dist-packages (from pandas>=1.0.5->category_encoders) (2.8.2)\n",
            "Requirement already satisfied: pytz>=2020.1 in /usr/local/lib/python3.10/dist-packages (from pandas>=1.0.5->category_encoders) (2023.4)\n",
            "Requirement already satisfied: six in /usr/local/lib/python3.10/dist-packages (from patsy>=0.5.1->category_encoders) (1.16.0)\n",
            "Requirement already satisfied: joblib>=1.1.1 in /usr/local/lib/python3.10/dist-packages (from scikit-learn>=0.20.0->category_encoders) (1.3.2)\n",
            "Requirement already satisfied: threadpoolctl>=2.0.0 in /usr/local/lib/python3.10/dist-packages (from scikit-learn>=0.20.0->category_encoders) (3.3.0)\n",
            "Requirement already satisfied: packaging>=21.3 in /usr/local/lib/python3.10/dist-packages (from statsmodels>=0.9.0->category_encoders) (23.2)\n",
            "Installing collected packages: category_encoders\n",
            "Successfully installed category_encoders-2.6.3\n",
            "Requirement already satisfied: imbalanced-learn in /usr/local/lib/python3.10/dist-packages (0.10.1)\n",
            "Requirement already satisfied: numpy>=1.17.3 in /usr/local/lib/python3.10/dist-packages (from imbalanced-learn) (1.25.2)\n",
            "Requirement already satisfied: scipy>=1.3.2 in /usr/local/lib/python3.10/dist-packages (from imbalanced-learn) (1.11.4)\n",
            "Requirement already satisfied: scikit-learn>=1.0.2 in /usr/local/lib/python3.10/dist-packages (from imbalanced-learn) (1.2.2)\n",
            "Requirement already satisfied: joblib>=1.1.1 in /usr/local/lib/python3.10/dist-packages (from imbalanced-learn) (1.3.2)\n",
            "Requirement already satisfied: threadpoolctl>=2.0.0 in /usr/local/lib/python3.10/dist-packages (from imbalanced-learn) (3.3.0)\n"
          ]
        }
      ],
      "source": [
        "!pip install category_encoders\n",
        "!pip install imbalanced-learn"
      ]
    },
    {
      "cell_type": "code",
      "execution_count": null,
      "metadata": {
        "id": "FsXrqyVa_XKo"
      },
      "outputs": [],
      "source": [
        "from datetime import datetime\n",
        "import pandas as pd\n",
        "import numpy as np\n",
        "import category_encoders as ce\n",
        "from category_encoders import TargetEncoder\n",
        "from sklearn.compose import ColumnTransformer\n",
        "from sklearn.experimental import enable_iterative_imputer\n",
        "from sklearn.impute import IterativeImputer\n",
        "from sklearn.preprocessing import StandardScaler, OneHotEncoder\n",
        "from sklearn.pipeline import Pipeline\n",
        "from imblearn.pipeline import Pipeline as imbPipe\n",
        "from sklearn.linear_model import BayesianRidge\n",
        "from sklearn import preprocessing\n",
        "from sklearn.impute import SimpleImputer\n",
        "from sklearn.model_selection import GridSearchCV\n",
        "from sklearn.model_selection import RandomizedSearchCV\n",
        "from sklearn.neighbors import KNeighborsClassifier, NearestNeighbors\n",
        "from sklearn.svm import SVC\n",
        "from sklearn.metrics import roc_auc_score, roc_curve, auc, confusion_matrix\n",
        "import matplotlib.pylab as plt\n",
        "from numpy import random\n",
        "from sklearn.model_selection import train_test_split\n",
        "from imblearn.over_sampling import SMOTE\n",
        "from collections import Counter\n",
        "import pickle\n",
        "import os"
      ]
    },
    {
      "cell_type": "code",
      "execution_count": null,
      "metadata": {
        "id": "s_t46wnQ_jJC"
      },
      "outputs": [],
      "source": [
        "# Load data\n",
        "df_train = pd.read_csv('/content/drive/MyDrive/Trimester 2/04_Deep_learning_ML/Project 1/mimic_train.csv')\n",
        "df_test = pd.read_csv('/content/drive/MyDrive/Trimester 2/04_Deep_learning_ML/Project 1/mimic_test_death.csv')"
      ]
    },
    {
      "cell_type": "code",
      "execution_count": null,
      "metadata": {
        "colab": {
          "base_uri": "https://localhost:8080/"
        },
        "id": "rDBZbuqorVml",
        "outputId": "d5ba94c6-5f2c-45c4-8c08-cf461a9e4ac2"
      },
      "outputs": [
        {
          "output_type": "execute_result",
          "data": {
            "text/plain": [
              "Counter({0: 18540, 1: 2345})"
            ]
          },
          "metadata": {},
          "execution_count": 5
        }
      ],
      "source": [
        "# Imbalanced target variable. We will do some resampling during training to correct for this\n",
        "Counter(df_train['HOSPITAL_EXPIRE_FLAG'])"
      ]
    },
    {
      "cell_type": "code",
      "execution_count": null,
      "metadata": {
        "id": "0-dsjFN3EYIY"
      },
      "outputs": [],
      "source": [
        "# Store test ids for predictions\n",
        "test_ids = df_test['icustay_id']"
      ]
    },
    {
      "cell_type": "code",
      "execution_count": null,
      "metadata": {
        "id": "o2rF1hTjutXU"
      },
      "outputs": [],
      "source": [
        "# Load meta data with additional diagnoses\n",
        "meta = pd.read_csv('/content/drive/MyDrive/Trimester 2/04_Deep_learning_ML/Project 1/MIMIC_diagnoses.csv')"
      ]
    },
    {
      "cell_type": "code",
      "execution_count": null,
      "metadata": {
        "colab": {
          "base_uri": "https://localhost:8080/",
          "height": 968
        },
        "id": "sXo4jRzsvAmF",
        "outputId": "8388be1a-49f1-4044-8e15-73f2ad3b78d6"
      },
      "outputs": [
        {
          "output_type": "execute_result",
          "data": {
            "text/plain": [
              "(array([ 374.,    0., 1057.,    0., 2799.,    0.,    0., 3278.,    0.,\n",
              "        3507.,    0.,    0., 3712.,    0., 3875.,    0.,    0., 3967.,\n",
              "           0., 9102.,    0.,    0., 2712.,    0., 2669.,    0., 2544.,\n",
              "           0.,    0., 2334.,    0., 2235.,    0.,    0., 2005.,    0.,\n",
              "        1865.,    0.,    0., 1708.,    0., 1461.,    0.,    0., 1287.,\n",
              "           0., 1106.,    0.,  942.,    0.,    0.,  747.,    0.,  642.,\n",
              "           0.,    0.,  510.,    0.,  416.,    0.,    0.,  373.,    0.,\n",
              "         297.,    0.,    0.,  272.,    0.,  203.,    0.,  194.,    0.,\n",
              "           0.,  138.,    0.,  118.,    0.,    0.,  103.,    0.,   61.,\n",
              "           0.,    0.,   65.,    0.,   65.,    0.,    0.,   36.,    0.,\n",
              "          30.,    0.,  120.]),\n",
              " array([ 1.        ,  1.40860215,  1.8172043 ,  2.22580645,  2.6344086 ,\n",
              "         3.04301075,  3.4516129 ,  3.86021505,  4.2688172 ,  4.67741935,\n",
              "         5.08602151,  5.49462366,  5.90322581,  6.31182796,  6.72043011,\n",
              "         7.12903226,  7.53763441,  7.94623656,  8.35483871,  8.76344086,\n",
              "         9.17204301,  9.58064516,  9.98924731, 10.39784946, 10.80645161,\n",
              "        11.21505376, 11.62365591, 12.03225806, 12.44086022, 12.84946237,\n",
              "        13.25806452, 13.66666667, 14.07526882, 14.48387097, 14.89247312,\n",
              "        15.30107527, 15.70967742, 16.11827957, 16.52688172, 16.93548387,\n",
              "        17.34408602, 17.75268817, 18.16129032, 18.56989247, 18.97849462,\n",
              "        19.38709677, 19.79569892, 20.20430108, 20.61290323, 21.02150538,\n",
              "        21.43010753, 21.83870968, 22.24731183, 22.65591398, 23.06451613,\n",
              "        23.47311828, 23.88172043, 24.29032258, 24.69892473, 25.10752688,\n",
              "        25.51612903, 25.92473118, 26.33333333, 26.74193548, 27.15053763,\n",
              "        27.55913978, 27.96774194, 28.37634409, 28.78494624, 29.19354839,\n",
              "        29.60215054, 30.01075269, 30.41935484, 30.82795699, 31.23655914,\n",
              "        31.64516129, 32.05376344, 32.46236559, 32.87096774, 33.27956989,\n",
              "        33.68817204, 34.09677419, 34.50537634, 34.91397849, 35.32258065,\n",
              "        35.7311828 , 36.13978495, 36.5483871 , 36.95698925, 37.3655914 ,\n",
              "        37.77419355, 38.1827957 , 38.59139785, 39.        ]),\n",
              " <BarContainer object of 93 artists>)"
            ]
          },
          "metadata": {},
          "execution_count": 9
        },
        {
          "output_type": "display_data",
          "data": {
            "text/plain": [
              "<Figure size 640x480 with 1 Axes>"
            ],
            "image/png": "[encoded data removed]"
          },
          "metadata": {}
        }
      ],
      "source": [
        "# Reshape meta data wide\n",
        "meta = meta.dropna(subset=['SEQ_NUM', 'ICD9_CODE'], how='all')\n",
        "\n",
        "pivoted_diagnoses = meta.pivot(\n",
        "    index=['SUBJECT_ID', 'HADM_ID'],\n",
        "    columns='SEQ_NUM',\n",
        "    values='ICD9_CODE'\n",
        ").reset_index()\n",
        "\n",
        "# Rename columns for clarity\n",
        "pivoted_diagnoses.columns = [f'ICD9_{col}' if col not in ['SUBJECT_ID', 'HADM_ID'] else col for col in pivoted_diagnoses.columns]\n",
        "\n",
        "# Add variable for number of diagnoses\n",
        "extra_diag = pivoted_diagnoses.iloc[:, :11].copy()\n",
        "extra_diag['diag_count'] = pivoted_diagnoses.iloc[:, 2:].notna().sum(axis=1)\n",
        "\n",
        "# Check how distribution for number of diagnoses\n",
        "plt.hist(extra_diag['diag_count'], bins='auto')"
      ]
    },
    {
      "cell_type": "code",
      "execution_count": null,
      "metadata": {
        "id": "EmL3DYElzwXe"
      },
      "outputs": [],
      "source": [
        "# Add additional diagnoses to training and test data\n",
        "df_train = pd.merge(\n",
        "    df_train,\n",
        "    extra_diag,\n",
        "    how='left',\n",
        "    left_on=['subject_id', 'hadm_id'],\n",
        "    right_on=['SUBJECT_ID', 'HADM_ID']\n",
        ")\n",
        "\n",
        "df_test = pd.merge(\n",
        "    df_test,\n",
        "    extra_diag,\n",
        "    how='left',\n",
        "    left_on=['subject_id', 'hadm_id'],\n",
        "    right_on=['SUBJECT_ID', 'HADM_ID']\n",
        ")"
      ]
    },
    {
      "cell_type": "code",
      "execution_count": null,
      "metadata": {
        "colab": {
          "base_uri": "https://localhost:8080/"
        },
        "id": "NYr5ll0L1OEX",
        "outputId": "cc8e21d3-26b0-436e-aaa9-93dbbfe071d4"
      },
      "outputs": [
        {
          "output_type": "stream",
          "name": "stdout",
          "text": [
            "20885\n",
            "5221\n"
          ]
        }
      ],
      "source": [
        "# Double check that the first diagnosis is the same as diagnosis from the test and train data\n",
        "print(sum(df_train['ICD9_diagnosis'] == df_train['ICD9_1.0']))\n",
        "print(sum(df_test['ICD9_diagnosis'] == df_test['ICD9_1.0']))"
      ]
    },
    {
      "cell_type": "markdown",
      "metadata": {
        "id": "W69PGUWXL6Md"
      },
      "source": [
        "# Initial look at data"
      ]
    },
    {
      "cell_type": "code",
      "execution_count": null,
      "metadata": {
        "colab": {
          "base_uri": "https://localhost:8080/"
        },
        "id": "IV3W_VIPJ6lz",
        "outputId": "ae406283-730e-44c3-ec6c-11fb964a3de9"
      },
      "outputs": [
        {
          "output_type": "execute_result",
          "data": {
            "text/plain": [
              "subject_id    16317\n",
              "hadm_id       19749\n",
              "icustay_id    20885\n",
              "dtype: int64"
            ]
          },
          "metadata": {},
          "execution_count": 12
        }
      ],
      "source": [
        "# Double check ids\n",
        "unique_ids = df_train[['subject_id', 'hadm_id', 'icustay_id']].nunique()\n",
        "unique_ids"
      ]
    },
    {
      "cell_type": "code",
      "execution_count": null,
      "metadata": {
        "id": "S9K7zp1OPSdH"
      },
      "outputs": [],
      "source": [
        "# Remove ID columns that we won't use for model training and columns in the training data not known for testing\n",
        "df_train = df_train.drop(columns = ['subject_id', 'hadm_id', 'icustay_id', 'DOD','DISCHTIME', 'DEATHTIME', 'LOS', 'ICD9_diagnosis'])\n",
        "df_test  = df_test.drop(columns  = ['subject_id', 'hadm_id', 'icustay_id', 'ICD9_diagnosis'])"
      ]
    },
    {
      "cell_type": "code",
      "execution_count": null,
      "metadata": {
        "colab": {
          "base_uri": "https://localhost:8080/"
        },
        "id": "GZN6p53qFLfc",
        "outputId": "d8fa92d8-58a1-4608-c65c-8ef9ff5c5bfc"
      },
      "outputs": [
        {
          "output_type": "stream",
          "name": "stdout",
          "text": [
            "(20885, 48)\n",
            "(5221, 47)\n"
          ]
        }
      ],
      "source": [
        "# Check data\n",
        "print(df_train.shape)\n",
        "print(df_test.shape)"
      ]
    },
    {
      "cell_type": "code",
      "execution_count": null,
      "metadata": {
        "colab": {
          "base_uri": "https://localhost:8080/"
        },
        "id": "9varF9SGsmr-",
        "outputId": "eec33250-21d1-4725-ae9b-c90b2ff81de3"
      },
      "outputs": [
        {
          "output_type": "execute_result",
          "data": {
            "text/plain": [
              "HOSPITAL_EXPIRE_FLAG      int64\n",
              "HeartRate_Min           float64\n",
              "HeartRate_Max           float64\n",
              "HeartRate_Mean          float64\n",
              "SysBP_Min               float64\n",
              "SysBP_Max               float64\n",
              "SysBP_Mean              float64\n",
              "DiasBP_Min              float64\n",
              "DiasBP_Max              float64\n",
              "DiasBP_Mean             float64\n",
              "MeanBP_Min              float64\n",
              "MeanBP_Max              float64\n",
              "MeanBP_Mean             float64\n",
              "RespRate_Min            float64\n",
              "RespRate_Max            float64\n",
              "RespRate_Mean           float64\n",
              "TempC_Min               float64\n",
              "TempC_Max               float64\n",
              "TempC_Mean              float64\n",
              "SpO2_Min                float64\n",
              "SpO2_Max                float64\n",
              "SpO2_Mean               float64\n",
              "Glucose_Min             float64\n",
              "Glucose_Max             float64\n",
              "Glucose_Mean            float64\n",
              "GENDER                   object\n",
              "DOB                      object\n",
              "ADMITTIME                object\n",
              "Diff                    float64\n",
              "ADMISSION_TYPE           object\n",
              "INSURANCE                object\n",
              "RELIGION                 object\n",
              "MARITAL_STATUS           object\n",
              "ETHNICITY                object\n",
              "DIAGNOSIS                object\n",
              "FIRST_CAREUNIT           object\n",
              "SUBJECT_ID                int64\n",
              "HADM_ID                   int64\n",
              "ICD9_1.0                 object\n",
              "ICD9_2.0                 object\n",
              "ICD9_3.0                 object\n",
              "ICD9_4.0                 object\n",
              "ICD9_5.0                 object\n",
              "ICD9_6.0                 object\n",
              "ICD9_7.0                 object\n",
              "ICD9_8.0                 object\n",
              "ICD9_9.0                 object\n",
              "diag_count                int64\n",
              "dtype: object"
            ]
          },
          "metadata": {},
          "execution_count": 16
        }
      ],
      "source": [
        "df_train.dtypes"
      ]
    },
    {
      "cell_type": "markdown",
      "metadata": {
        "id": "C6IEwP4OMqsd"
      },
      "source": [
        "# Investigate categorical variables"
      ]
    },
    {
      "cell_type": "code",
      "execution_count": null,
      "metadata": {
        "id": "DFw5RK7xYRwr"
      },
      "outputs": [],
      "source": [
        "# Extract year of birth from date of birth variable\n",
        "df_train['YOB'] = pd.to_datetime(df_train['DOB']).dt.year\n",
        "df_test['YOB'] = pd.to_datetime(df_test['DOB']).dt.year"
      ]
    },
    {
      "cell_type": "code",
      "execution_count": null,
      "metadata": {
        "colab": {
          "base_uri": "https://localhost:8080/",
          "height": 499
        },
        "id": "LXIECHrtUMwd",
        "outputId": "3a77c6f9-ecf3-4b51-e579-d39ed1ccda56"
      },
      "outputs": [
        {
          "output_type": "execute_result",
          "data": {
            "text/plain": [
              "(array([128.,  19.,  11.,  11.,  11.,   7.,  17.,  23.,  24.,  21.]),\n",
              " array([  1. ,  23.4,  45.8,  68.2,  90.6, 113. , 135.4, 157.8, 180.2,\n",
              "        202.6, 225. ]),\n",
              " <BarContainer object of 10 artists>)"
            ]
          },
          "metadata": {},
          "execution_count": 18
        },
        {
          "output_type": "display_data",
          "data": {
            "text/plain": [
              "<Figure size 640x480 with 1 Axes>"
            ],
            "image/png": "[encoded data removed]"
          },
          "metadata": {}
        }
      ],
      "source": [
        "yob_cnts = df_train['YOB'].value_counts()\n",
        "plt.hist(yob_cnts, bins='auto')"
      ]
    },
    {
      "cell_type": "code",
      "execution_count": null,
      "metadata": {
        "colab": {
          "base_uri": "https://localhost:8080/"
        },
        "id": "URnmt4Zwo_0W",
        "outputId": "2a0e0b73-1995-4ba5-8cad-8ac2519de740"
      },
      "outputs": [
        {
          "output_type": "stream",
          "name": "stdout",
          "text": [
            "GENDER : 2\n",
            "ADMISSION_TYPE : 3\n",
            "INSURANCE : 5\n",
            "RELIGION : 17\n",
            "MARITAL_STATUS : 7\n",
            "ETHNICITY : 41\n",
            "FIRST_CAREUNIT : 5\n",
            "ICD9_1.0 : 1853\n"
          ]
        }
      ],
      "source": [
        "# Given the large number of values, I will use target encoding with smoothing for diagnosis\n",
        "cat_feat = ['GENDER', 'ADMISSION_TYPE', 'INSURANCE', 'RELIGION', 'MARITAL_STATUS', 'ETHNICITY', 'FIRST_CAREUNIT', 'ICD9_1.0']\n",
        "for column in df_train[cat_feat]:\n",
        "    print(f\"{column} : {len(df_train[column].value_counts())}\")"
      ]
    },
    {
      "cell_type": "code",
      "execution_count": null,
      "metadata": {
        "colab": {
          "base_uri": "https://localhost:8080/"
        },
        "id": "EYR8kvEwu5tt",
        "outputId": "43423603-b745-41fe-918d-9f6ac2213eeb"
      },
      "outputs": [
        {
          "output_type": "stream",
          "name": "stdout",
          "text": [
            "GENDER : 2\n",
            "ADMISSION_TYPE : 3\n",
            "INSURANCE : 5\n",
            "RELIGION : 16\n",
            "MARITAL_STATUS : 7\n",
            "ETHNICITY : 37\n",
            "FIRST_CAREUNIT : 5\n",
            "ICD9_1.0 : 1024\n"
          ]
        }
      ],
      "source": [
        "cat_feat = ['GENDER', 'ADMISSION_TYPE', 'INSURANCE', 'RELIGION', 'MARITAL_STATUS', 'ETHNICITY', 'FIRST_CAREUNIT', 'ICD9_1.0']\n",
        "for column in df_test[cat_feat]:\n",
        "    print(f\"{column} : {len(df_test[column].value_counts())}\")"
      ]
    },
    {
      "cell_type": "code",
      "execution_count": null,
      "metadata": {
        "colab": {
          "base_uri": "https://localhost:8080/"
        },
        "id": "XtP0HieaoVMs",
        "outputId": "bebe1456-cc60-4f94-f841-2a57a57e5e15"
      },
      "outputs": [
        {
          "output_type": "stream",
          "name": "stdout",
          "text": [
            "GENDER:\n",
            "['F', 'M']\n",
            "ADMISSION_TYPE:\n",
            "['ELECTIVE', 'EMERGENCY', 'URGENT']\n",
            "INSURANCE:\n",
            "['Government', 'Medicaid', 'Medicare', 'Private', 'Self Pay']\n",
            "RELIGION:\n",
            "['7TH DAY ADVENTIST', 'BUDDHIST', 'CATHOLIC', 'CHRISTIAN SCIENTIST', 'EPISCOPALIAN', 'GREEK ORTHODOX', 'HEBREW', 'HINDU', \"JEHOVAH'S WITNESS\", 'JEWISH', 'MUSLIM', 'NOT SPECIFIED', 'OTHER', 'PROTESTANT QUAKER', 'ROMANIAN EAST. ORTH', 'UNITARIAN-UNIVERSALIST', 'UNOBTAINABLE']\n",
            "FIRST_CAREUNIT:\n",
            "['CCU', 'CSRU', 'MICU', 'SICU', 'TSICU']\n"
          ]
        }
      ],
      "source": [
        "cat_feat = ['GENDER', 'ADMISSION_TYPE', 'INSURANCE', 'RELIGION', 'FIRST_CAREUNIT']\n",
        "for c in cat_feat:\n",
        "    print(f'{c}:')\n",
        "    print(sorted(df_train[c].unique()))"
      ]
    },
    {
      "cell_type": "code",
      "execution_count": null,
      "metadata": {
        "colab": {
          "base_uri": "https://localhost:8080/"
        },
        "id": "PjEYGUOEqfcl",
        "outputId": "128b9111-a646-412d-c469-ce114b3ccf71"
      },
      "outputs": [
        {
          "output_type": "execute_result",
          "data": {
            "text/plain": [
              "WHITE                                                       15112\n",
              "BLACK/AFRICAN AMERICAN                                       1977\n",
              "UNABLE TO OBTAIN                                              577\n",
              "UNKNOWN/NOT SPECIFIED                                         568\n",
              "HISPANIC OR LATINO                                            562\n",
              "OTHER                                                         489\n",
              "ASIAN                                                         265\n",
              "PATIENT DECLINED TO ANSWER                                    175\n",
              "HISPANIC/LATINO - PUERTO RICAN                                155\n",
              "ASIAN - CHINESE                                               146\n",
              "BLACK/CAPE VERDEAN                                            126\n",
              "WHITE - RUSSIAN                                               117\n",
              "BLACK/HAITIAN                                                  72\n",
              "HISPANIC/LATINO - DOMINICAN                                    59\n",
              "ASIAN - ASIAN INDIAN                                           58\n",
              "WHITE - OTHER EUROPEAN                                         50\n",
              "MULTI RACE ETHNICITY                                           50\n",
              "PORTUGUESE                                                     40\n",
              "WHITE - BRAZILIAN                                              33\n",
              "ASIAN - VIETNAMESE                                             28\n",
              "BLACK/AFRICAN                                                  26\n",
              "MIDDLE EASTERN                                                 24\n",
              "HISPANIC/LATINO - GUATEMALAN                                   24\n",
              "WHITE - EASTERN EUROPEAN                                       18\n",
              "HISPANIC/LATINO - CUBAN                                        17\n",
              "ASIAN - FILIPINO                                               16\n",
              "ASIAN - CAMBODIAN                                              14\n",
              "AMERICAN INDIAN/ALASKA NATIVE                                  13\n",
              "HISPANIC/LATINO - SALVADORAN                                   13\n",
              "HISPANIC/LATINO - MEXICAN                                       8\n",
              "HISPANIC/LATINO - CENTRAL AMERICAN (OTHER)                      7\n",
              "SOUTH AMERICAN                                                  7\n",
              "CARIBBEAN ISLAND                                                6\n",
              "ASIAN - KOREAN                                                  6\n",
              "NATIVE HAWAIIAN OR OTHER PACIFIC ISLANDER                       6\n",
              "ASIAN - JAPANESE                                                6\n",
              "HISPANIC/LATINO - COLOMBIAN                                     5\n",
              "ASIAN - OTHER                                                   3\n",
              "ASIAN - THAI                                                    3\n",
              "HISPANIC/LATINO - HONDURAN                                      2\n",
              "AMERICAN INDIAN/ALASKA NATIVE FEDERALLY RECOGNIZED TRIBE        2\n",
              "Name: ETHNICITY, dtype: int64"
            ]
          },
          "metadata": {},
          "execution_count": 22
        }
      ],
      "source": [
        "ethnicity_counts = df_train['ETHNICITY'].value_counts()\n",
        "ethnicity_counts"
      ]
    },
    {
      "cell_type": "code",
      "execution_count": null,
      "metadata": {
        "colab": {
          "base_uri": "https://localhost:8080/"
        },
        "id": "Mi9Fvp1yDYt4",
        "outputId": "c496d637-75cf-4eb0-e2d3-b598779c5e76"
      },
      "outputs": [
        {
          "output_type": "execute_result",
          "data": {
            "text/plain": [
              "WHITE                         15330\n",
              "BLACK/AFRICAN AMERICAN         2201\n",
              "UNKNOWN/NOT SPECIFIED          1145\n",
              "HISPANIC OR LATINO              852\n",
              "OTHER                           637\n",
              "ASIAN                           545\n",
              "PATIENT DECLINED TO ANSWER      175\n",
              "Name: alt_ethnicity, dtype: int64"
            ]
          },
          "metadata": {},
          "execution_count": 23
        }
      ],
      "source": [
        "# Creating the alternative ethnicity labels by collapsing subgroups to avoid overfitting less populated ethnicities\n",
        "df_train['alt_ethnicity'] = df_train['ETHNICITY'].apply(lambda x: x.split(' - ')[0])\n",
        "df_train['alt_ethnicity'] = df_train['alt_ethnicity'].replace(regex={r'^BLACK.*': 'BLACK/AFRICAN AMERICAN'})\n",
        "df_train['alt_ethnicity'] = df_train['alt_ethnicity'].replace({'UNABLE TO OBTAIN': 'UNKNOWN/NOT SPECIFIED'})\n",
        "df_train['alt_ethnicity'] = df_train['alt_ethnicity'].replace({'HISPANIC/LATINO': 'HISPANIC OR LATINO'})\n",
        "\n",
        "# List of remaining ethnicity groups that have high frequency\n",
        "specified_ethnicities = [\"WHITE\", \"BLACK/AFRICAN AMERICAN\", \"UNKNOWN/NOT SPECIFIED\",\n",
        "                         \"HISPANIC OR LATINO\", \"ASIAN\", \"OTHER\", \"PATIENT DECLINED TO ANSWER\"]\n",
        "\n",
        "# Replacing all remaining low frequency values with \"OTHER\"\n",
        "df_train['alt_ethnicity'] = df_train['alt_ethnicity'].apply(lambda x: x if x in specified_ethnicities else \"OTHER\")\n",
        "# I'll one-hot encode this simplified variable\n",
        "df_train['alt_ethnicity'].value_counts()"
      ]
    },
    {
      "cell_type": "code",
      "execution_count": null,
      "metadata": {
        "id": "gXuP4CRNWb85"
      },
      "outputs": [],
      "source": [
        "# Creating the alternative ethnicity labels by collapsing subgroups in df_test\n",
        "df_test['alt_ethnicity'] = df_test['ETHNICITY'].apply(lambda x: x.split(' - ')[0])\n",
        "df_test['alt_ethnicity'] = df_test['alt_ethnicity'].replace(regex={r'^BLACK.*': 'BLACK/AFRICAN AMERICAN'})\n",
        "df_test['alt_ethnicity'] = df_test['alt_ethnicity'].replace({'UNABLE TO OBTAIN': 'UNKNOWN/NOT SPECIFIED'})\n",
        "df_test['alt_ethnicity'] = df_test['alt_ethnicity'].replace({'HISPANIC/LATINO': 'HISPANIC OR LATINO'})\n",
        "\n",
        "# List of remaining ethnicity groups that have high frequency\n",
        "specified_ethnicities = [\"WHITE\", \"BLACK/AFRICAN AMERICAN\", \"UNKNOWN/NOT SPECIFIED\",\n",
        "                         \"HISPANIC OR LATINO\", \"ASIAN\", \"OTHER\", \"PATIENT DECLINED TO ANSWER\"]\n",
        "\n",
        "# Replacing all remaining low frequency values with \"OTHER\" in df_test\n",
        "df_test['alt_ethnicity'] = df_test['alt_ethnicity'].apply(lambda x: x if x in specified_ethnicities else \"OTHER\")"
      ]
    },
    {
      "cell_type": "markdown",
      "metadata": {
        "id": "c1osjI4LO_YD"
      },
      "source": [
        "# Missingness and imputation"
      ]
    },
    {
      "cell_type": "code",
      "execution_count": null,
      "metadata": {
        "colab": {
          "base_uri": "https://localhost:8080/",
          "height": 543
        },
        "id": "_Uj63FYJPNH9",
        "outputId": "52683003-95fb-45ec-9fca-61ad13a0c37d"
      },
      "outputs": [
        {
          "output_type": "display_data",
          "data": {
            "text/plain": [
              "<Figure size 1000x400 with 1 Axes>"
            ],
            "image/png": "[encoded data removed]"
          },
          "metadata": {}
        }
      ],
      "source": [
        "# Plot missingness for train data\n",
        "Nulls= df_train.isnull().sum()\n",
        "x_vals = Nulls.index\n",
        "y_vals = 100*Nulls.values/len(df_train.index)\n",
        "\n",
        "plt.figure(figsize=(10,4))\n",
        "plt.xticks(rotation='vertical')\n",
        "plt.bar(x_vals, y_vals)\n",
        "plt.ylabel('% missing data')\n",
        "plt.title('Pctg missing data in original dataset')\n",
        "plt.show()"
      ]
    },
    {
      "cell_type": "code",
      "execution_count": null,
      "metadata": {
        "colab": {
          "base_uri": "https://localhost:8080/",
          "height": 472
        },
        "id": "EIwCMV0GLSpZ",
        "outputId": "85d91eb7-0c0c-45bb-819e-9a0299692b6a"
      },
      "outputs": [
        {
          "output_type": "display_data",
          "data": {
            "text/plain": [
              "<Figure size 640x480 with 1 Axes>"
            ],
            "image/png": "[encoded data removed]"
          },
          "metadata": {}
        }
      ],
      "source": [
        "# Most entries have less than 10 variables missing, while ~10% of entries have more than 20 missing\n",
        "na_count_per_row = df_train.isna().sum(axis=1)\n",
        "\n",
        "# Plotting the histogram\n",
        "plt.hist(na_count_per_row, bins='auto')\n",
        "plt.title('Histogram of NAs per Row')\n",
        "plt.xlabel('Number of NAs')\n",
        "plt.ylabel('Frequency')\n",
        "plt.show()"
      ]
    },
    {
      "cell_type": "code",
      "execution_count": null,
      "metadata": {
        "id": "t-PSIDGBvwHo"
      },
      "outputs": [],
      "source": [
        "# Drop columns no longer needed in features data\n",
        "df_train_pre_trans = df_train.drop(columns = ['DOB', 'HOSPITAL_EXPIRE_FLAG', 'ADMITTIME', 'Diff', 'DIAGNOSIS', 'ETHNICITY']).copy()\n",
        "df_test_pre_trans  = df_test.drop(columns  = ['DOB', 'ADMITTIME', 'Diff', 'DIAGNOSIS', 'ETHNICITY']).copy()"
      ]
    },
    {
      "cell_type": "code",
      "execution_count": null,
      "metadata": {
        "id": "YDPxDrZzHIYw"
      },
      "outputs": [],
      "source": [
        "# Flag rows that are heavily missing\n",
        "df_train_pre_trans['missing_20_or_more'] = df_train_pre_trans.apply(lambda row: 1 if row.isna().sum() >= 20 else 0, axis=1)\n",
        "df_test_pre_trans['missing_20_or_more'] = df_test_pre_trans.apply(lambda row: 1 if row.isna().sum() >= 20 else 0, axis=1)\n",
        "\n",
        "# We will impute this using the most frequent, but will also flag it because its the only missing categorical variable besides the diagnoses\n",
        "df_train_pre_trans['flag_miss_marital'] = df_train_pre_trans['MARITAL_STATUS'].isna().astype(int)\n",
        "df_test_pre_trans['flag_miss_marital'] = df_test_pre_trans['MARITAL_STATUS'].isna().astype(int)"
      ]
    },
    {
      "cell_type": "markdown",
      "metadata": {
        "id": "_5fbZAwpr2mp"
      },
      "source": [
        "# Model tuning"
      ]
    },
    {
      "cell_type": "code",
      "execution_count": null,
      "metadata": {
        "id": "0v3frF4Pkki-"
      },
      "outputs": [],
      "source": [
        "y_train = df_train['HOSPITAL_EXPIRE_FLAG']\n",
        "X_train = df_train_pre_trans.copy()\n",
        "X_test  = df_test_pre_trans.copy()"
      ]
    },
    {
      "cell_type": "markdown",
      "metadata": {
        "id": "y7CjRJ_fORbb"
      },
      "source": [
        "## K-Nearest Neighbors"
      ]
    },
    {
      "cell_type": "code",
      "execution_count": null,
      "metadata": {
        "id": "rGVvEbsf_GeS"
      },
      "outputs": [],
      "source": [
        "# Define the column selectors for different types of columns\n",
        "categorical_cols = ['GENDER', 'ADMISSION_TYPE', 'INSURANCE', 'RELIGION', 'MARITAL_STATUS', 'FIRST_CAREUNIT', 'alt_ethnicity']\n",
        "numeric_cols = df_train_pre_trans.select_dtypes(include='number').columns.to_list()\n",
        "# I target encode the first 9 entries because they are the most populated/to avoid overfitting the less populated diagnoses from the meta data\n",
        "diagnoses = ['ICD9_1.0', 'ICD9_2.0', 'ICD9_3.0', 'ICD9_4.0', 'ICD9_5.0', 'ICD9_6.0', 'ICD9_7.0', 'ICD9_8.0', 'ICD9_9.0']\n",
        "\n",
        "# Target encode diagnoses with smoothing.\n",
        "# I experimented with smoothing values of [1, 3, 5, 10, 15, 20, 25, 30] and min_samples_leaf of [1:20]\n",
        "target_encode = Pipeline(steps=[\n",
        "    ('target_encoder', TargetEncoder(smoothing=50, min_samples_leaf = 5))\n",
        "])\n",
        "\n",
        "# Impute and one-hot encode other categorical variables\n",
        "categorical_transformer = Pipeline(steps=[\n",
        "    ('imputer', SimpleImputer(strategy='most_frequent')),\n",
        "    ('onehot', OneHotEncoder(handle_unknown='ignore'))\n",
        "])\n",
        "\n",
        "# Impute missing numeric variables using BayesianRidge\n",
        "numeric_transformer = Pipeline(steps=[\n",
        "    ('imputer', IterativeImputer(estimator=BayesianRidge(), random_state=3))\n",
        "])\n",
        "\n",
        "# ColumnTransformer\n",
        "preprocessor = ColumnTransformer(transformers=[\n",
        "    ('target', target_encode, diagnoses),\n",
        "    ('cat', categorical_transformer, categorical_cols),\n",
        "    ('num', numeric_transformer, numeric_cols)],\n",
        "    remainder='drop')\n",
        "\n",
        "# Full pipeline with SMOTE to balance target class in training\n",
        "pipeline = imbPipe(steps=[\n",
        "    ('preprocessor', preprocessor),\n",
        "    ('scaler', StandardScaler()),\n",
        "    ('smote', SMOTE(random_state=3)),\n",
        "    ('classifier', KNeighborsClassifier())\n",
        "])\n",
        "\n",
        "# GridSearchCV for parameter tuning\n",
        "  # I experimented with this grid follwed by the next one\n",
        "  # param_grid = {\n",
        "  #     'classifier__n_neighbors': [50, 100, 200, 300, 400, 500, 600, 700, 800, 900, 1000],\n",
        "  #     'classifier__weights': ['uniform','distance'],\n",
        "  #     'classifier__algorithm': ['auto'],\n",
        "  #     'classifier__metric': ['minkowski'],\n",
        "  #     'classifier__p': [1.5,2,2.5,3]\n",
        "  # }\n",
        "\n",
        "    # param_grid = {\n",
        "  #     'classifier__n_neighbors': [750, 775, 800, 825, 850, 875, 900],\n",
        "  #     'classifier__weights': ['distance'],\n",
        "  #     'classifier__algorithm': ['auto'],\n",
        "  #     'classifier__metric': ['minkowski'],\n",
        "  #     'classifier__p': [2]\n",
        "  # }\n",
        "\n",
        "\n",
        "param_grid = {\n",
        "    'classifier__n_neighbors': [700, 800, 900, 1000],\n",
        "    'classifier__weights': ['distance'],\n",
        "    'classifier__algorithm': ['auto'],\n",
        "    'classifier__metric': ['minkowski'],\n",
        "    'classifier__p': [2]\n",
        "}\n",
        "\n",
        "knn_grid_search = GridSearchCV(pipeline, param_grid, cv=5, scoring='roc_auc')"
      ]
    },
    {
      "cell_type": "code",
      "execution_count": null,
      "metadata": {
        "colab": {
          "base_uri": "https://localhost:8080/"
        },
        "id": "lPhbIcTCAZSc",
        "outputId": "893c9202-8731-4b5b-b866-aa77de387d71"
      },
      "outputs": [
        {
          "output_type": "stream",
          "name": "stdout",
          "text": [
            "Best parameters: {'classifier__algorithm': 'auto', 'classifier__metric': 'minkowski', 'classifier__n_neighbors': 1000, 'classifier__p': 2, 'classifier__weights': 'distance'}\n",
            "Best score: 0.8853421289300147\n"
          ]
        }
      ],
      "source": [
        "# Fit KNN on training data\n",
        "knn_grid_search.fit(X_train, y_train)\n",
        "\n",
        "print(\"Best parameters:\", knn_grid_search.best_params_)\n",
        "print(\"Best score:\", knn_grid_search.best_score_)\n",
        "\n",
        "base_directory = '/content/drive/MyDrive/Trimester 2/04_Deep_learning_ML/Project 1/'\n",
        "file_path = os.path.join(base_directory, 'model_knn_825.pickle')\n",
        "pickle.dump(knn_grid_search, open(file_path, 'wb'))"
      ]
    },
    {
      "cell_type": "code",
      "execution_count": null,
      "metadata": {
        "id": "xzIaWEA6ZanM"
      },
      "outputs": [],
      "source": [
        "knn_model =  pickle.load(open(file_path, 'rb'))"
      ]
    },
    {
      "cell_type": "code",
      "execution_count": null,
      "metadata": {
        "id": "ApEXBwQCDeJo"
      },
      "outputs": [],
      "source": [
        "# Save KNN predictions for test\n",
        "knn_predictions = knn_model.predict_proba(X_test)\n",
        "knn_prob_death = pd.DataFrame({'HOSPITAL_EXPIRE_FLAG':knn_predictions[:,1]})\n",
        "knn_submission = pd.concat([test_ids, knn_prob_death], axis=1)\n",
        "knn_submission.to_csv('/content/drive/MyDrive/Trimester 2/04_Deep_learning_ML/Project 1/KNN prob predictions - 825 NN.csv', index=False)"
      ]
    },
    {
      "cell_type": "markdown",
      "metadata": {
        "id": "FCOhYZs7SORR"
      },
      "source": [
        "## Support Vector Classifier"
      ]
    },
    {
      "cell_type": "code",
      "execution_count": null,
      "metadata": {
        "colab": {
          "base_uri": "https://localhost:8080/"
        },
        "id": "Ph0IsOAsXWAS",
        "outputId": "eed75f63-69e0-49d0-ff95-46958e2331e7"
      },
      "outputs": [
        {
          "name": "stdout",
          "output_type": "stream",
          "text": [
            "(4000, 46)\n",
            "(4000,)\n"
          ]
        }
      ],
      "source": [
        "# I used samples of the data to find the rough area of the best parameters and then did my grid searches over those areas on the full data because of the long run times\n",
        "# The range of hyperparameters considered were far larger using this method than the grid search used in the final pipeline, which represents the narrowed down search\n",
        "\n",
        "  # random.seed(3)\n",
        "\n",
        "  # n_subset = 4000\n",
        "  # ind_subset = random.choice(X_train.shape[0], size= n_subset, replace=False)## indicies of your sampled points\n",
        "\n",
        "  # sub_X_train = X_train.copy().iloc[ind_subset,]## selecting the subsampled indicies\n",
        "  # sub_y_train = y_train[ind_subset]\n",
        "  # print(sub_X_train.shape)\n",
        "  # print(sub_y_train.shape)"
      ]
    },
    {
      "cell_type": "code",
      "execution_count": null,
      "metadata": {
        "id": "4mF64-NOTqp3"
      },
      "outputs": [],
      "source": [
        "# Define the column selectors for different types of columns\n",
        "categorical_cols = ['GENDER', 'ADMISSION_TYPE', 'INSURANCE', 'RELIGION', 'MARITAL_STATUS', 'FIRST_CAREUNIT', 'alt_ethnicity']\n",
        "numeric_cols = df_train_pre_trans.select_dtypes(include='number').columns.to_list()\n",
        "diagnoses = ['ICD9_1.0', 'ICD9_2.0', 'ICD9_3.0', 'ICD9_4.0', 'ICD9_5.0', 'ICD9_6.0', 'ICD9_7.0', 'ICD9_8.0', 'ICD9_9.0']\n",
        "\n",
        "# Target encode diagnoses with smoothing\n",
        "target_encode = Pipeline(steps=[\n",
        "    ('target_encoder', TargetEncoder(smoothing=20, min_samples_leaf = 5))\n",
        "])\n",
        "\n",
        "# Impute and one-hot encode other categorical variables\n",
        "categorical_transformer = Pipeline(steps=[\n",
        "    ('imputer', SimpleImputer(strategy='most_frequent')),\n",
        "    ('onehot', OneHotEncoder(handle_unknown='ignore'))\n",
        "])\n",
        "\n",
        "# Impute missing numeric variables using BayesianRidge\n",
        "numeric_transformer = Pipeline(steps=[\n",
        "    ('imputer', IterativeImputer(estimator=BayesianRidge(), random_state=3))\n",
        "])\n",
        "\n",
        "# ColumnTransformer\n",
        "preprocessor = ColumnTransformer(transformers=[\n",
        "    ('target', target_encode, diagnoses),\n",
        "    ('cat', categorical_transformer, categorical_cols),\n",
        "    ('num', numeric_transformer, numeric_cols)],\n",
        "    remainder='drop')\n",
        "\n",
        "pipeline = Pipeline(steps=[\n",
        "    ('preprocessor', preprocessor),\n",
        "    ('scaler', StandardScaler()),\n",
        "    ('classifier', SVC())\n",
        "])\n",
        "\n",
        "# GridSearchCV for parameter tuning\n",
        "param_grid = {\n",
        "    'classifier__class_weight':['balanced'],\n",
        "    'classifier__probability': [True],\n",
        "    'classifier__random_state': [3],\n",
        "    'classifier__C': [0.05, 0.1, 0.15, 0.2],\n",
        "    'classifier__kernel': ['poly', 'rbf', 'sigmoid'],\n",
        "    'classifier__degree': [1,2,3,4],\n",
        "    'classifier__gamma': ['auto'],\n",
        "    'classifier__coef0': [-1, 0, 1, 2]\n",
        "}\n",
        "\n",
        "svc_grid_search = GridSearchCV(pipeline, param_grid, cv=5, scoring='roc_auc')"
      ]
    },
    {
      "cell_type": "code",
      "execution_count": null,
      "metadata": {
        "colab": {
          "background_save": true
        },
        "id": "kBoDB43QX7OM",
        "outputId": "5f3f60d4-1450-4816-a3a0-47cc6406880a"
      },
      "outputs": [
        {
          "name": "stdout",
          "output_type": "stream",
          "text": [
            "Best parameters: {'classifier__C': 0.1, 'classifier__class_weight': 'balanced', 'classifier__coef0': 1, 'classifier__degree': 2, 'classifier__gamma': 'auto', 'classifier__kernel': 'poly', 'classifier__probability': True, 'classifier__random_state': 3}\n",
            "Best score: 0.9045938821840865\n"
          ]
        }
      ],
      "source": [
        "# Fit SVC on training data\n",
        "svc_grid_search.fit(X_train, y_train)\n",
        "\n",
        "print(\"Best parameters:\", svc_grid_search.best_params_)\n",
        "print(\"Best score:\", svc_grid_search.best_score_)\n",
        "\n",
        "base_directory = '/content/drive/MyDrive/Trimester 2/04_Deep_learning_ML/Project 1/'\n",
        "file_path = os.path.join(base_directory, 'model_svc_sig.pickle')\n",
        "pickle.dump(svc_grid_search, open(file_path, 'wb'))"
      ]
    },
    {
      "cell_type": "code",
      "source": [
        "base_directory = '/content/drive/MyDrive/Trimester 2/04_Deep_learning_ML/Project 1/'\n",
        "file_path = os.path.join(base_directory, 'model_svc_poly_C_01_deg_2.pickle')\n",
        "svc_grid_search = pickle.load(open(file_path, 'rb'))"
      ],
      "metadata": {
        "id": "j5o6zOmlAv-3"
      },
      "execution_count": null,
      "outputs": []
    },
    {
      "cell_type": "code",
      "execution_count": null,
      "metadata": {
        "id": "jF-PpjUOdoEZ"
      },
      "outputs": [],
      "source": [
        "# Save SVC predictions\n",
        "svc_predictions = svc_grid_search.predict_proba(X_test)\n",
        "svc_prob_death = pd.DataFrame({'HOSPITAL_EXPIRE_FLAG':svc_predictions[:,1]})\n",
        "svc_submission = pd.concat([test_ids, svc_prob_death], axis=1)\n",
        "svc_submission.to_csv('/content/drive/MyDrive/Trimester 2/04_Deep_learning_ML/Project 1/SVM prob predictions poly.csv', index=False)"
      ]
    }
  ],
  "metadata": {
    "colab": {
      "provenance": [],
      "authorship_tag": "ABX9TyMdtNy+qs9BYz985htJVWJa",
      "include_colab_link": true
    },
    "kernelspec": {
      "display_name": "Python 3",
      "name": "python3"
    },
    "language_info": {
      "name": "python"
    }
  },
  "nbformat": 4,
  "nbformat_minor": 0
}